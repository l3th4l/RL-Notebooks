{
 "cells": [
  {
   "cell_type": "code",
   "execution_count": 1,
   "metadata": {},
   "outputs": [],
   "source": [
    "import tensorflow as tf\n",
    "import numpy as np\n",
    "import gym"
   ]
  },
  {
   "cell_type": "code",
   "execution_count": null,
   "metadata": {},
   "outputs": [],
   "source": [
    "env = gym.make('Cartpole-v0')\n",
    "env = env.unwrapped\n",
    "env.seed(1)"
   ]
  },
  {
   "cell_type": "code",
   "execution_count": null,
   "metadata": {},
   "outputs": [],
   "source": [
    "obs_space = 4\n",
    "act_space = env.action_space.n\n",
    "\n",
    "max_eps = 300\n",
    "l_rate = 0.01\n",
    "gamma = 0.95"
   ]
  },
  {
   "cell_type": "code",
   "execution_count": null,
   "metadata": {},
   "outputs": [],
   "source": [
    "state_in = tf.placeholder(tf.float32, [None, obs_space], name = 'st_in')\n",
    "action_in = tf.placeholder(tf.float32, [None, act_space], name = 'ac_in')\n",
    "disc_rewards_in = tf.placeholder(tf.float32, [None, ], name = 'disc_r_in')\n",
    "\n",
    "#Policy\n",
    "with tf.name_scope('Policy_stream'):\n",
    "    \n",
    "    p_fc1 = tf.layers.dense(state_in, \n",
    "                            10, \n",
    "                            activation = tf.nn.relu, \n",
    "                            kernel_initializer = tf.contrib.layers.xavier_initializer())\n",
    "    p_fc2 = tf.layers.dense(p_fc1, \n",
    "                            act_space, \n",
    "                            activation = tf.nn.relu, \n",
    "                            kernel_initializer = tf.contrib.layers.xavier_initializer())\n",
    "    p_fc3 = tf.layers.dense(p_fc2, \n",
    "                            act_space, \n",
    "                            activation = None, \n",
    "                            kernel_initializer = tf.contrib.layers.xavier_initializer())\n",
    "    \n",
    "    action_distribution = tf.nn.softmax(p_fc3)\n",
    "    \n",
    "    #Policy loss\n",
    "    neg_log_probs = - tf.reduce_sum(tf.math.multiply(action_in, tf.log(action_distribution)), axis = -1)\n",
    "    p_loss = tf.reduce_mean(neg_log_probs * disc_rewards_in)\n",
    "\n",
    "#Value\n",
    "with tf.name_scope('Value_stream'):\n",
    "    \n",
    "    v_fc1 = tf.layers.dense(state_in, \n",
    "                            24, \n",
    "                            activation = tf.nn.relu, \n",
    "                            kernel_initializer = tf.contrib.layers.xavier_initializer())\n",
    "    value = tf.layers.dense(v_fc1, \n",
    "                            1, \n",
    "                            activation = None, \n",
    "                            kernel_initializer = tf.contrib.layers.xavier_initializer())\n",
    "    \n",
    "    #Value loss\n",
    "    v_loss = tf.reduce_mean(tf.math.square(value - disc_rewards_in))\n",
    "\n",
    "#Combined loss\n",
    "alpha = 0.8\n",
    "loss = p_loss + alpha * v_loss\n",
    "\n",
    "#Optimizer\n",
    "opt = tf.train.AdamOptimizer(l_rate).minimize(loss)"
   ]
  },
  {
   "cell_type": "code",
   "execution_count": null,
   "metadata": {},
   "outputs": [],
   "source": []
  }
 ],
 "metadata": {
  "kernelspec": {
   "display_name": "Python 3",
   "language": "python",
   "name": "python3"
  },
  "language_info": {
   "codemirror_mode": {
    "name": "ipython",
    "version": 3
   },
   "file_extension": ".py",
   "mimetype": "text/x-python",
   "name": "python",
   "nbconvert_exporter": "python",
   "pygments_lexer": "ipython3",
   "version": "3.6.8"
  }
 },
 "nbformat": 4,
 "nbformat_minor": 2
}
