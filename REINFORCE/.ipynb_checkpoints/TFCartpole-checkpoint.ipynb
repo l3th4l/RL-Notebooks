{
 "cells": [
  {
   "cell_type": "code",
   "execution_count": 1,
   "metadata": {},
   "outputs": [],
   "source": [
    "import tensorflow as tf\n",
    "import numpy as np\n",
    "import gym"
   ]
  },
  {
   "cell_type": "code",
   "execution_count": null,
   "metadata": {},
   "outputs": [],
   "source": [
    "env = gym.make('Cartpole-v0')\n",
    "env = env.unwrapped\n",
    "env.seed(1)"
   ]
  },
  {
   "cell_type": "code",
   "execution_count": null,
   "metadata": {},
   "outputs": [],
   "source": [
    "obs_space = 4\n",
    "act_space = env.action_space.n\n",
    "\n",
    "max_eps = 300\n",
    "l_rate = 0.01\n",
    "gamma = 0.95"
   ]
  },
  {
   "cell_type": "code",
   "execution_count": null,
   "metadata": {},
   "outputs": [],
   "source": [
    "state_in = tf.placeholder(tf.float32, [None, obs_space], name = 'st_in')\n",
    "action_in = tf.placeholder(tf.float32, [None, act_space], name = 'ac_in')\n",
    "disc_rewards_in = tf.placeholder(tf.float32, [None, ], name = 'disc_r_in')\n",
    "\n",
    "#Policy\n",
    "with tf.name_scope('Policy_stream'):\n",
    "    \n",
    "    p_fc1 = tf.layers.dense(state_in, \n",
    "                            10, \n",
    "                            activation = tf.nn.relu, \n",
    "                            kernel_initializer = tf.contrib.layers.xavier_initializer())\n",
    "    p_fc2 = tf.layers.dense(p_fc1, \n",
    "                            act_space, \n",
    "                            activation = tf.nn.relu, \n",
    "                            kernel_initializer = tf.contrib.layers.xavier_initializer())\n",
    "    p_fc3 = tf.layers.dense(p_fc2, \n",
    "                            act_space, \n",
    "                            activation = None, \n",
    "                            kernel_initializer = tf.contrib.layers.xavier_initializer())\n",
    "    \n",
    "    action_distribution = tf.nn.softmax(p_fc3)\n",
    "    \n",
    "    #Policy loss\n",
    "    neg_log_probs = - tf.reduce_sum(tf.math.multiply(action_in, tf.log(action_distribution)), axis = -1)\n",
    "    p_loss = tf.reduce_mean(neg_log_probs * disc_rewards_in)\n",
    "\n",
    "#Value\n",
    "with tf.name_scope('Value_stream'):\n",
    "    \n",
    "    v_fc1 = tf.layers.dense(state_in, \n",
    "                            24, \n",
    "                            activation = tf.nn.relu, \n",
    "                            kernel_initializer = tf.contrib.layers.xavier_initializer())\n",
    "    value = tf.layers.dense(v_fc1, \n",
    "                            1, \n",
    "                            activation = None, \n",
    "                            kernel_initializer = tf.contrib.layers.xavier_initializer())\n",
    "    \n",
    "    #Value loss\n",
    "    v_loss = tf.reduce_mean(tf.math.square(value - disc_rewards_in))\n",
    "\n",
    "#Combined loss\n",
    "alpha = 0.8\n",
    "loss = p_loss + alpha * v_loss\n",
    "\n",
    "#Optimizer\n",
    "opt = tf.train.AdamOptimizer(l_rate).minimize(loss)"
   ]
  },
  {
   "cell_type": "code",
   "execution_count": null,
   "metadata": {},
   "outputs": [],
   "source": [
    "max_memory = 1000000\n",
    "memory = {'states' : deque(maxlen = max_memory), \n",
    "          'actions' : deque(maxlen = max_memory), \n",
    "          'rewards' : deque(maxlen = max_memory), \n",
    "          'next_states' : deque(maxlen = max_memory), \n",
    "          'done' : deque(maxlen = max_memory)}\n",
    "\n",
    "def memorize(state, action, reward, next_state, done):\n",
    "    memory['states'].append(state)\n",
    "    memory['actions'].append(action)\n",
    "    memory['rewards'].append(reward)\n",
    "    memory['next_states'].append(next_state)\n",
    "    memory['done'].append(done)\n",
    "    \n",
    "def sample(sample_size):    \n",
    "    indexes = np.random.choice(max_memory, sample_size, replace=False)\n",
    "    \n",
    "    s_s = []\n",
    "    s_a = []\n",
    "    s_r = []\n",
    "    s_s1 = []\n",
    "    s_d = []\n",
    "    \n",
    "    for index in indexes:\n",
    "        \n",
    "        s_s.append(memory['states'][index])\n",
    "        s_a.append(memory['action'][index])\n",
    "        s_r.append(memory['rewards'][index])\n",
    "        s_d.append(memory['done'][index])\n",
    "        \n",
    "        if memory['done'][index]:\n",
    "            s_s1.append(np.zeros(obs_space))\n",
    "        else:\n",
    "            s_s1.append(memory['action'][index])\n",
    "            \n",
    "    return np.vstack(s_s), np.vstack(s_a), np.vstack(s_r), np.vstack(s_s1), np.vstack(s_d)\n",
    "        "
   ]
  },
  {
   "cell_type": "code",
   "execution_count": null,
   "metadata": {},
   "outputs": [],
   "source": [
    "batch_size = 32\n",
    "sess = tf.InteractiveSession()\n",
    "def exp_replay():    \n",
    "    \n",
    "    if len(self.memory['states']) < batch_size:\n",
    "        return\n",
    "    \n",
    "    states, actions, rewards, next_states, done = sample(batch_size)\n",
    "    #R = r + γ * V(s)\n",
    "    disc_rewards = rewards + gamma * sess.run(value, feed_dict = {state_in : next_states})\n",
    "    \n",
    "    _loss, _ = sess.run([loss, opt], feed_dict {state_in : states, \n",
    "                                                action_in : actions, \n",
    "                                                disc_rewards_in : disc_rewards})"
   ]
  }
 ],
 "metadata": {
  "kernelspec": {
   "display_name": "Python 3",
   "language": "python",
   "name": "python3"
  },
  "language_info": {
   "codemirror_mode": {
    "name": "ipython",
    "version": 3
   },
   "file_extension": ".py",
   "mimetype": "text/x-python",
   "name": "python",
   "nbconvert_exporter": "python",
   "pygments_lexer": "ipython3",
   "version": "3.6.8"
  }
 },
 "nbformat": 4,
 "nbformat_minor": 2
}
