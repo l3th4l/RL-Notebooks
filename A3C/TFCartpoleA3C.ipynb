{
 "cells": [
  {
   "cell_type": "code",
   "execution_count": 1,
   "metadata": {},
   "outputs": [
    {
     "name": "stdout",
     "output_type": "stream",
     "text": [
      "WARNING:tensorflow:From E:\\Users\\L3\\.conda\\envs\\ML\\lib\\site-packages\\tensorflow\\python\\framework\\op_def_library.py:263: colocate_with (from tensorflow.python.framework.ops) is deprecated and will be removed in a future version.\n",
      "Instructions for updating:\n",
      "Colocations handled automatically by placer.\n"
     ]
    }
   ],
   "source": [
    "import random \n",
    "import gym\n",
    "import numpy as np \n",
    "from collections import deque\n",
    "import tensorflow as tf \n",
    "import tflearn as tl "
   ]
  },
  {
   "cell_type": "markdown",
   "metadata": {},
   "source": [
    "### Loss function : \n",
    "$$L= L_\\pi + \\alpha L_V + \\beta L_{reg}$$\n",
    "### Policy loss :\n",
    "$$\\frac{\\partial\\,J(\\pi)}{\\partial\\, \\theta'} = \\frac{1}{n}\\sum_{i=1}^{n}\\frac{\\partial\\,log\\,\\pi (a_i|s_i;\\theta')}{\\partial\\,\\theta'}\\; (R - V(s_i; \\theta'_v))$$\n",
    "$$\\therefore J(\\pi) = \\frac{1}{n}\\sum_{i=1}^{n}log\\,\\pi (a_i|s_i;\\theta')\\; (R - V(s_i; \\theta'_v))\\;\\;\\;\\;\\;\\;[\\because (R - V(s_i; \\theta'_v))\\;is\\;considered\\;constant]$$\n",
    "∵ We want to maximize 𝐽(𝜋) $$L_\\pi = -J(\\pi)$$\n",
    "### Value loss :\n",
    "$$J(V) = \\sum_{i=1}^{n}(R-V(s_i;\\theta'_v))$$\n",
    "$$L_V = J(V)$$\n",
    "### Policy entropy :\n",
    "$$H(\\overrightarrow{\\pi(s)})=-\\sum_{i=1}^{n}\\sum_{k=1}^{m} \\pi(s_i)_k\\cdot log\\, \\pi(s_i)_k$$\n",
    "$$L_{reg}=H(\\overrightarrow{\\pi(s)})$$"
   ]
  },
  {
   "cell_type": "code",
   "execution_count": null,
   "metadata": {},
   "outputs": [],
   "source": [
    "def A3CSolver():\n",
    "    "
   ]
  }
 ],
 "metadata": {
  "kernelspec": {
   "display_name": "Python 3",
   "language": "python",
   "name": "python3"
  },
  "language_info": {
   "codemirror_mode": {
    "name": "ipython",
    "version": 3
   },
   "file_extension": ".py",
   "mimetype": "text/x-python",
   "name": "python",
   "nbconvert_exporter": "python",
   "pygments_lexer": "ipython3",
   "version": "3.6.8"
  }
 },
 "nbformat": 4,
 "nbformat_minor": 2
}
