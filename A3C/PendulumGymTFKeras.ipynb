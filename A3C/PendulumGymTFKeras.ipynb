{
 "cells": [
  {
   "cell_type": "code",
   "execution_count": null,
   "metadata": {},
   "outputs": [],
   "source": [
    "import gym\n",
    "import numpy as np \n",
    "from tensorflow.keras.model import Sequential, Model\n",
    "from tensorflow.keras.layers import Dense, Dropout, Input\n",
    "from tensorflow.keras.layers.merge import Add, Multiply\n",
    "from tensorflow.keras.optimizers import Adam\n",
    "import tensorflow.keras.backend as K\n",
    "\n",
    "import tensorflow as tf \n",
    "\n",
    "import random \n",
    "from collections import deque"
   ]
  },
  {
   "cell_type": "markdown",
   "metadata": {},
   "source": [
    "$$\\frac{\\delta C}{\\delta \\Theta_A} = \\frac{\\delta C}{\\delta A} \\times \\frac{\\delta A}{\\delta \\Theta_A}$$"
   ]
  },
  {
   "cell_type": "code",
   "execution_count": null,
   "metadata": {},
   "outputs": [],
   "source": [
    "class A3C():\n",
    "    def __init__(self, env, sess):\n",
    "        self.env = env\n",
    "        self.sess = sess\n",
    "        \n",
    "        self.l_rate = 0.001\n",
    "        self.epsilon = 1.0\n",
    "        self.epsilon_decay = 0.9995\n",
    "        self.gamma = 0.95\n",
    "        self.tau = 0.125\n",
    "        self.memory = deque(maxlen = 10000)\n",
    "        \n",
    "        self.actor_state_input, self.actor_model = create_actor()\n",
    "        _, self.target_actor_model = create_actor()\n",
    "        \n",
    "        self.actor_critic_grad = tf.placeholder(tf.float32, shape = [None, self.env.action_space.shape[0]]) #input 𝛿𝐶 / 𝛿𝐴\n",
    "        \n",
    "        actor_model_weights = self.actor_model.trainable_weights\n",
    "        self.actor_grads = tf.gradients(self.actor_model.output, actor_model_weights, - self.actor_critic_grad) #𝛿𝐶 / 𝛿Θ_𝐴\n",
    "        grads = zip(self.actor_grads, actor_model_weights)\n",
    "        self.optimize = tf.train.AdamOptimizer(self.lrearning_rate).apply_gradients(grads)\n",
    "        \n",
    "        self.critic_state_input, self.critic_action_input, self.critic_model = self.create_critic()\n",
    "        _, _, self.target_critic_model = self.create_critic_model()\n",
    "        \n",
    "        self.critic_grads = tf.gradients(self.critic_model.output, self.critic_action_input) #calculate 𝛿𝐶 / 𝛿𝐴\n",
    "        \n",
    "        self.sess.run(tf.initialize_all_variables())\n",
    "        \n",
    "    def create_actor(self):\n",
    "        state_input = Input(shape = self.env.observation_space.shape)\n",
    "        h1 = Dense(24, activation = 'relu')(state_input)\n",
    "        h2 = Dense(48, activation = 'relu')(h1)\n",
    "        h3 = Dense(24, activation = 'relu')(h2)\n",
    "        output = Dense(self.env.action_space.shape[0], activation = 'relu')(h3)\n",
    "        \n",
    "        model = Model(input = state_input, output = output)\n",
    "        optimizer = Adam(lr = self.l_rate)\n",
    "        model.compile(loss = \"mse\", optimizer = optimizer)\n",
    "        return state_input, model\n",
    "    \n",
    "    def create_critic(self):\n",
    "        state_input = Input(shape = self.env.observation_space.shape)\n",
    "        state_h1 = Dense(24, activation = 'relu')(state_input)\n",
    "        state_h2 = Dense(48)(state_h1)\n",
    "        \n",
    "        action_input = Input(shape = self.env.action_space.shape)\n",
    "        action_h1 = Dense(48)(action_input)\n",
    "        \n",
    "        merged = Add()([state_h2, action_h1])\n",
    "        merged_h1 = Dense(1, activation = 'relu')(merged)\n",
    "        output = Dense(1, activation = 'relu')(merged_h1)\n",
    "        \n",
    "        model = Model(input = [state_input, action_input], output = output)\n",
    "        optimizer = Adam(lr = self.l_rate)\n",
    "        model.compile(loss = \"mse\", optimizer = optimizer)\n",
    "        return state_input, action_input, model\n",
    "    \n",
    "    def remember(self, state, action, reward, next_state, done):\n",
    "        self.memory.append([state, action, reward, next_state, done])\n",
    "        \n",
    "    def train_actor(self, sample):\n",
    "        "
   ]
  }
 ],
 "metadata": {
  "kernelspec": {
   "display_name": "Python 3",
   "language": "python",
   "name": "python3"
  },
  "language_info": {
   "codemirror_mode": {
    "name": "ipython",
    "version": 3
   },
   "file_extension": ".py",
   "mimetype": "text/x-python",
   "name": "python",
   "nbconvert_exporter": "python",
   "pygments_lexer": "ipython3",
   "version": "3.6.8"
  }
 },
 "nbformat": 4,
 "nbformat_minor": 2
}
